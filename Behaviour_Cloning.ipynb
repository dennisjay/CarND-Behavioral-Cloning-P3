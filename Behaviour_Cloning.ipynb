{
 "cells": [
  {
   "cell_type": "markdown",
   "metadata": {},
   "source": [
    "# Data Reading"
   ]
  },
  {
   "cell_type": "code",
   "execution_count": 1,
   "metadata": {
    "collapsed": true
   },
   "outputs": [],
   "source": [
    "import pandas as pd"
   ]
  },
  {
   "cell_type": "code",
   "execution_count": 2,
   "metadata": {
    "collapsed": true
   },
   "outputs": [],
   "source": [
    "def load_data(prefix):\n",
    "    def fix_path(src):\n",
    "        return prefix + str('/IMG/') +src.split('/')[-1]    \n",
    "    \n",
    "    data = pd.read_csv( prefix + str('/driving_log.csv'), header=None, skiprows=1, names=[\n",
    "        'center_img_path', \n",
    "        'left_img_path',\n",
    "        'right_img_path',\n",
    "        'steering_angle',\n",
    "        'throttle',\n",
    "        'break',\n",
    "        'speed'\n",
    "    ])\n",
    "    \n",
    "    data['center_img_path'] =  data['center_img_path'].apply(fix_path)\n",
    "    data['left_img_path'] =  data['left_img_path'].apply(fix_path)\n",
    "    data['right_img_path'] =  data['right_img_path'].apply(fix_path)\n",
    "\n",
    "    return data"
   ]
  },
  {
   "cell_type": "code",
   "execution_count": 3,
   "metadata": {
    "collapsed": true
   },
   "outputs": [],
   "source": [
    "datasets = [load_data(prefix) for prefix in  [ './data' ]] #, './train', './train_2'] ]"
   ]
  },
  {
   "cell_type": "code",
   "execution_count": 4,
   "metadata": {
    "scrolled": false
   },
   "outputs": [
    {
     "data": {
      "text/html": [
       "<div>\n",
       "<style>\n",
       "    .dataframe thead tr:only-child th {\n",
       "        text-align: right;\n",
       "    }\n",
       "\n",
       "    .dataframe thead th {\n",
       "        text-align: left;\n",
       "    }\n",
       "\n",
       "    .dataframe tbody tr th {\n",
       "        vertical-align: top;\n",
       "    }\n",
       "</style>\n",
       "<table border=\"1\" class=\"dataframe\">\n",
       "  <thead>\n",
       "    <tr style=\"text-align: right;\">\n",
       "      <th></th>\n",
       "      <th>center_img_path</th>\n",
       "      <th>left_img_path</th>\n",
       "      <th>right_img_path</th>\n",
       "      <th>steering_angle</th>\n",
       "      <th>throttle</th>\n",
       "      <th>break</th>\n",
       "      <th>speed</th>\n",
       "    </tr>\n",
       "  </thead>\n",
       "  <tbody>\n",
       "    <tr>\n",
       "      <th>0</th>\n",
       "      <td>./data/IMG/center_2016_12_01_13_30_48_287.jpg</td>\n",
       "      <td>./data/IMG/left_2016_12_01_13_30_48_287.jpg</td>\n",
       "      <td>./data/IMG/right_2016_12_01_13_30_48_287.jpg</td>\n",
       "      <td>0.0</td>\n",
       "      <td>0.0</td>\n",
       "      <td>0.0</td>\n",
       "      <td>22.148290</td>\n",
       "    </tr>\n",
       "    <tr>\n",
       "      <th>1</th>\n",
       "      <td>./data/IMG/center_2016_12_01_13_30_48_404.jpg</td>\n",
       "      <td>./data/IMG/left_2016_12_01_13_30_48_404.jpg</td>\n",
       "      <td>./data/IMG/right_2016_12_01_13_30_48_404.jpg</td>\n",
       "      <td>0.0</td>\n",
       "      <td>0.0</td>\n",
       "      <td>0.0</td>\n",
       "      <td>21.879630</td>\n",
       "    </tr>\n",
       "    <tr>\n",
       "      <th>2</th>\n",
       "      <td>./data/IMG/center_2016_12_01_13_31_12_937.jpg</td>\n",
       "      <td>./data/IMG/left_2016_12_01_13_31_12_937.jpg</td>\n",
       "      <td>./data/IMG/right_2016_12_01_13_31_12_937.jpg</td>\n",
       "      <td>0.0</td>\n",
       "      <td>0.0</td>\n",
       "      <td>0.0</td>\n",
       "      <td>1.453011</td>\n",
       "    </tr>\n",
       "  </tbody>\n",
       "</table>\n",
       "</div>"
      ],
      "text/plain": [
       "                                 center_img_path  \\\n",
       "0  ./data/IMG/center_2016_12_01_13_30_48_287.jpg   \n",
       "1  ./data/IMG/center_2016_12_01_13_30_48_404.jpg   \n",
       "2  ./data/IMG/center_2016_12_01_13_31_12_937.jpg   \n",
       "\n",
       "                                 left_img_path  \\\n",
       "0  ./data/IMG/left_2016_12_01_13_30_48_287.jpg   \n",
       "1  ./data/IMG/left_2016_12_01_13_30_48_404.jpg   \n",
       "2  ./data/IMG/left_2016_12_01_13_31_12_937.jpg   \n",
       "\n",
       "                                 right_img_path  steering_angle  throttle  \\\n",
       "0  ./data/IMG/right_2016_12_01_13_30_48_287.jpg             0.0       0.0   \n",
       "1  ./data/IMG/right_2016_12_01_13_30_48_404.jpg             0.0       0.0   \n",
       "2  ./data/IMG/right_2016_12_01_13_31_12_937.jpg             0.0       0.0   \n",
       "\n",
       "   break      speed  \n",
       "0    0.0  22.148290  \n",
       "1    0.0  21.879630  \n",
       "2    0.0   1.453011  "
      ]
     },
     "execution_count": 4,
     "metadata": {},
     "output_type": "execute_result"
    }
   ],
   "source": [
    "data = pd.concat( datasets )\n",
    "data.head(3)"
   ]
  },
  {
   "cell_type": "code",
   "execution_count": 5,
   "metadata": {
    "collapsed": true
   },
   "outputs": [],
   "source": [
    "data.to_pickle( 'loaded_data.pkl' )"
   ]
  },
  {
   "cell_type": "markdown",
   "metadata": {},
   "source": [
    "# Data Generation"
   ]
  },
  {
   "cell_type": "code",
   "execution_count": 6,
   "metadata": {
    "collapsed": true
   },
   "outputs": [],
   "source": [
    "import pandas as pd\n",
    "import numpy as np\n",
    "import cv2\n",
    "\n",
    "\n",
    "def generator(batch_size, data):\n",
    "    def load_img(src):\n",
    "        return cv2.imread(src)\n",
    "\n",
    "    correction = 0.2\n",
    "    while True:\n",
    "        subsample = data.sample(batch_size)\n",
    "        \n",
    "        subsample['center_img'] = subsample.center_img_path.apply(load_img)\n",
    "        #subsample['left_img'] = subsample.left_img_path.apply(load_img)\n",
    "        #subsample['right_img'] = subsample.right_img_path.apply(load_img)\n",
    "    \n",
    "        \n",
    "        X_center = np.asarray( subsample.center_img.values.tolist() )\n",
    "        y_center = subsample[['steering_angle']].values\n",
    "        \n",
    "        X_center_flipped = np.fliplr(X_center)\n",
    "        y_center_flipped = subsample[['steering_angle']].values * (-1)\n",
    "\n",
    "        #X_left = np.asarray( subsample.left_img.values.tolist() )\n",
    "        #y_left = subsample[['steering_angle']].values + correction\n",
    "\n",
    "        #X_right = np.asarray( subsample.right_img.values.tolist() )\n",
    "        #y_right = subsample[['steering_angle']].values - correction\n",
    "\n",
    "        X = np.concatenate( [X_center, X_center_flipped], axis=0)\n",
    "        y = np.concatenate( [y_center, y_center_flipped], axis=0)\n",
    "        \n",
    "        yield X, y"
   ]
  },
  {
   "cell_type": "code",
   "execution_count": 7,
   "metadata": {
    "collapsed": true
   },
   "outputs": [],
   "source": [
    "data = pd.read_pickle( 'loaded_data.pkl' )\n",
    "\n",
    "validation_data = data.sample( int(data.shape[0] * 0.1) )\n",
    "train_data = data.drop(validation_data.index)\n",
    "\n",
    "#X_valid, y_valid = next(generator(validation_data.shape[0], validation_data))\n"
   ]
  },
  {
   "cell_type": "markdown",
   "metadata": {},
   "source": [
    "# Neural Net"
   ]
  },
  {
   "cell_type": "code",
   "execution_count": 8,
   "metadata": {
    "collapsed": true
   },
   "outputs": [],
   "source": [
    "import os"
   ]
  },
  {
   "cell_type": "code",
   "execution_count": 9,
   "metadata": {
    "collapsed": true
   },
   "outputs": [],
   "source": [
    "def preprocess_image(img):\n",
    "    from keras.backend import tf as ktf\n",
    "    import keras.backend as K\n",
    "    \n",
    "    ktf.image.resize_images(img, (80, 160))\n",
    "    return (K.identity(img) / 255.0) - 0.5\n"
   ]
  },
  {
   "cell_type": "code",
   "execution_count": 10,
   "metadata": {
    "scrolled": false
   },
   "outputs": [
    {
     "name": "stderr",
     "output_type": "stream",
     "text": [
      "Using TensorFlow backend.\n"
     ]
    },
    {
     "name": "stdout",
     "output_type": "stream",
     "text": [
      "_________________________________________________________________\n",
      "Layer (type)                 Output Shape              Param #   \n",
      "=================================================================\n",
      "cropping2d_1 (Cropping2D)    (None, 100, 320, 3)       0         \n",
      "_________________________________________________________________\n",
      "lambda_1 (Lambda)            (None, 100, 320, 3)       0         \n",
      "_________________________________________________________________\n",
      "vgg16 (Model)                multiple                  14714688  \n",
      "_________________________________________________________________\n",
      "flatten_1 (Flatten)          (None, 15360)             0         \n",
      "_________________________________________________________________\n",
      "dense_1 (Dense)              (None, 1024)              15729664  \n",
      "_________________________________________________________________\n",
      "dense_2 (Dense)              (None, 128)               131200    \n",
      "_________________________________________________________________\n",
      "dense_3 (Dense)              (None, 64)                8256      \n",
      "_________________________________________________________________\n",
      "dense_4 (Dense)              (None, 16)                1040      \n",
      "_________________________________________________________________\n",
      "dense_5 (Dense)              (None, 1)                 17        \n",
      "=================================================================\n",
      "Total params: 30,584,865\n",
      "Trainable params: 15,870,177\n",
      "Non-trainable params: 14,714,688\n",
      "_________________________________________________________________\n"
     ]
    }
   ],
   "source": [
    "import keras\n",
    "from keras.models import Sequential\n",
    "from keras.layers import Conv2D, Flatten, Dense, Lambda, Cropping2D, Dropout\n",
    "from keras.applications import VGG16\n",
    "from keras.regularizers import l2\n",
    "\n",
    "tb = keras.callbacks.TensorBoard(log_dir='./logs')\n",
    "\n",
    "vgg = VGG16( include_top=False, weights='imagenet' )\n",
    "vgg.trainable = False\n",
    "\n",
    "model = Sequential()\n",
    "model.add( Cropping2D(cropping=((40,20), (0,0)), input_shape=(160,320,3)) )\n",
    "model.add( Lambda(preprocess_image) )\n",
    "model.add( vgg )\n",
    "model.add( Flatten() )\n",
    "model.add( Dense(1024, activation='relu'))#, kernel_regularizer=l2(0.1) ))\n",
    "model.add( Dense(128))#, activation='relu'))#, kernel_regularizer=l2(0.0001) ))\n",
    "model.add( Dense(64))#, activation='relu'))#, kernel_regularizer=l2(0.0001) ))\n",
    "model.add( Dense(16))#, activation='relu'))#, kernel_regularizer=l2(0.0001) ))\n",
    "model.add( Dense(1) )\n",
    "\n",
    "model.compile( optimizer='adam', loss='mse' )\n",
    "model.summary()"
   ]
  },
  {
   "cell_type": "code",
   "execution_count": 12,
   "metadata": {
    "scrolled": false
   },
   "outputs": [
    {
     "name": "stdout",
     "output_type": "stream",
     "text": [
      "Epoch 1/10\n",
      "113/113 [==============================] - 53s - loss: 4.0639 - val_loss: 0.0102\n",
      "Epoch 2/10\n",
      "113/113 [==============================] - 53s - loss: 0.0101 - val_loss: 0.0093\n",
      "Epoch 3/10\n",
      "113/113 [==============================] - 52s - loss: 0.0082 - val_loss: 0.0099\n",
      "Epoch 4/10\n",
      "113/113 [==============================] - 52s - loss: 0.0073 - val_loss: 0.0080\n",
      "Epoch 5/10\n",
      "113/113 [==============================] - 53s - loss: 0.0074 - val_loss: 0.0089\n",
      "Epoch 6/10\n",
      "113/113 [==============================] - 52s - loss: 0.0061 - val_loss: 0.0094\n",
      "Epoch 7/10\n",
      "113/113 [==============================] - 52s - loss: 0.0068 - val_loss: 0.0102\n",
      "Epoch 8/10\n",
      "113/113 [==============================] - 53s - loss: 0.0072 - val_loss: 0.0076\n",
      "Epoch 9/10\n",
      "113/113 [==============================] - 52s - loss: 0.0066 - val_loss: 0.0076\n",
      "Epoch 10/10\n",
      "113/113 [==============================] - 53s - loss: 0.0062 - val_loss: 0.0082\n"
     ]
    },
    {
     "data": {
      "text/plain": [
       "<keras.callbacks.History at 0x7fba0dd22588>"
      ]
     },
     "execution_count": 12,
     "metadata": {},
     "output_type": "execute_result"
    }
   ],
   "source": [
    "batch_size=64\n",
    "steps_per_epoch = train_data.shape[0] // batch_size \n",
    "\n",
    "model.fit_generator( generator=generator(batch_size, train_data), \n",
    "                    steps_per_epoch=steps_per_epoch, \n",
    "                    epochs=10, \n",
    "                    callbacks=[tb],\n",
    "                    validation_data=generator(batch_size, validation_data),\n",
    "                    validation_steps=steps_per_epoch // 10\n",
    "                   )\n"
   ]
  },
  {
   "cell_type": "code",
   "execution_count": 13,
   "metadata": {
    "collapsed": true
   },
   "outputs": [],
   "source": [
    "model.save( '2017-07-28.h5' )"
   ]
  },
  {
   "cell_type": "code",
   "execution_count": null,
   "metadata": {
    "collapsed": true
   },
   "outputs": [],
   "source": []
  },
  {
   "cell_type": "code",
   "execution_count": null,
   "metadata": {
    "collapsed": true
   },
   "outputs": [],
   "source": []
  }
 ],
 "metadata": {
  "kernelspec": {
   "display_name": "Python 3",
   "language": "python",
   "name": "python3"
  },
  "language_info": {
   "codemirror_mode": {
    "name": "ipython",
    "version": 3
   },
   "file_extension": ".py",
   "mimetype": "text/x-python",
   "name": "python",
   "nbconvert_exporter": "python",
   "pygments_lexer": "ipython3",
   "version": "3.6.1"
  },
  "widgets": {
   "state": {},
   "version": "1.1.2"
  }
 },
 "nbformat": 4,
 "nbformat_minor": 2
}
