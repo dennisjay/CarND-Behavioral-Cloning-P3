{
 "cells": [
  {
   "cell_type": "markdown",
   "metadata": {},
   "source": [
    "# Data Reading"
   ]
  },
  {
   "cell_type": "code",
   "execution_count": 1,
   "metadata": {
    "collapsed": true
   },
   "outputs": [],
   "source": [
    "import pandas as pd"
   ]
  },
  {
   "cell_type": "code",
   "execution_count": 2,
   "metadata": {},
   "outputs": [],
   "source": [
    "def load_data(prefix):\n",
    "    def fix_path(src):\n",
    "        return prefix + str('/IMG/') +src.split('/')[-1]    \n",
    "    \n",
    "    data = pd.read_csv( prefix + str('/driving_log.csv'), header=None, skiprows=1, names=[\n",
    "        'center_img_path', \n",
    "        'left_img_path',\n",
    "        'right_img_path',\n",
    "        'steering_angle',\n",
    "        'throttle',\n",
    "        'break',\n",
    "        'speed'\n",
    "    ])\n",
    "    \n",
    "    data['center_img_path'] =  data['center_img_path'].apply(fix_path)\n",
    "    data['left_img_path'] =  data['left_img_path'].apply(fix_path)\n",
    "    data['right_img_path'] =  data['right_img_path'].apply(fix_path)\n",
    "\n",
    "    return data"
   ]
  },
  {
   "cell_type": "code",
   "execution_count": 3,
   "metadata": {
    "collapsed": true
   },
   "outputs": [],
   "source": [
    "datasets = [load_data(prefix) for prefix in ['./train', './train_2', './data'] ]"
   ]
  },
  {
   "cell_type": "code",
   "execution_count": 4,
   "metadata": {
    "scrolled": false
   },
   "outputs": [
    {
     "data": {
      "text/html": [
       "<div>\n",
       "<style>\n",
       "    .dataframe thead tr:only-child th {\n",
       "        text-align: right;\n",
       "    }\n",
       "\n",
       "    .dataframe thead th {\n",
       "        text-align: left;\n",
       "    }\n",
       "\n",
       "    .dataframe tbody tr th {\n",
       "        vertical-align: top;\n",
       "    }\n",
       "</style>\n",
       "<table border=\"1\" class=\"dataframe\">\n",
       "  <thead>\n",
       "    <tr style=\"text-align: right;\">\n",
       "      <th></th>\n",
       "      <th>center_img_path</th>\n",
       "      <th>left_img_path</th>\n",
       "      <th>right_img_path</th>\n",
       "      <th>steering_angle</th>\n",
       "      <th>throttle</th>\n",
       "      <th>break</th>\n",
       "      <th>speed</th>\n",
       "    </tr>\n",
       "  </thead>\n",
       "  <tbody>\n",
       "    <tr>\n",
       "      <th>0</th>\n",
       "      <td>./train/IMG/center_2017_07_26_18_08_08_545.jpg</td>\n",
       "      <td>./train/IMG/left_2017_07_26_18_08_08_545.jpg</td>\n",
       "      <td>./train/IMG/right_2017_07_26_18_08_08_545.jpg</td>\n",
       "      <td>0.0</td>\n",
       "      <td>0.0</td>\n",
       "      <td>0.0</td>\n",
       "      <td>8.660496e-07</td>\n",
       "    </tr>\n",
       "    <tr>\n",
       "      <th>1</th>\n",
       "      <td>./train/IMG/center_2017_07_26_18_08_08_623.jpg</td>\n",
       "      <td>./train/IMG/left_2017_07_26_18_08_08_623.jpg</td>\n",
       "      <td>./train/IMG/right_2017_07_26_18_08_08_623.jpg</td>\n",
       "      <td>0.0</td>\n",
       "      <td>0.0</td>\n",
       "      <td>0.0</td>\n",
       "      <td>1.452814e-06</td>\n",
       "    </tr>\n",
       "    <tr>\n",
       "      <th>2</th>\n",
       "      <td>./train/IMG/center_2017_07_26_18_08_08_696.jpg</td>\n",
       "      <td>./train/IMG/left_2017_07_26_18_08_08_696.jpg</td>\n",
       "      <td>./train/IMG/right_2017_07_26_18_08_08_696.jpg</td>\n",
       "      <td>0.0</td>\n",
       "      <td>0.0</td>\n",
       "      <td>0.0</td>\n",
       "      <td>1.847686e-06</td>\n",
       "    </tr>\n",
       "  </tbody>\n",
       "</table>\n",
       "</div>"
      ],
      "text/plain": [
       "                                  center_img_path  \\\n",
       "0  ./train/IMG/center_2017_07_26_18_08_08_545.jpg   \n",
       "1  ./train/IMG/center_2017_07_26_18_08_08_623.jpg   \n",
       "2  ./train/IMG/center_2017_07_26_18_08_08_696.jpg   \n",
       "\n",
       "                                  left_img_path  \\\n",
       "0  ./train/IMG/left_2017_07_26_18_08_08_545.jpg   \n",
       "1  ./train/IMG/left_2017_07_26_18_08_08_623.jpg   \n",
       "2  ./train/IMG/left_2017_07_26_18_08_08_696.jpg   \n",
       "\n",
       "                                  right_img_path  steering_angle  throttle  \\\n",
       "0  ./train/IMG/right_2017_07_26_18_08_08_545.jpg             0.0       0.0   \n",
       "1  ./train/IMG/right_2017_07_26_18_08_08_623.jpg             0.0       0.0   \n",
       "2  ./train/IMG/right_2017_07_26_18_08_08_696.jpg             0.0       0.0   \n",
       "\n",
       "   break         speed  \n",
       "0    0.0  8.660496e-07  \n",
       "1    0.0  1.452814e-06  \n",
       "2    0.0  1.847686e-06  "
      ]
     },
     "execution_count": 4,
     "metadata": {},
     "output_type": "execute_result"
    }
   ],
   "source": [
    "data = pd.concat( datasets )\n",
    "data.head(3)"
   ]
  },
  {
   "cell_type": "code",
   "execution_count": 5,
   "metadata": {},
   "outputs": [],
   "source": [
    "data.to_pickle( 'loaded_data.pkl' )"
   ]
  },
  {
   "cell_type": "markdown",
   "metadata": {},
   "source": [
    "# Data Generation"
   ]
  },
  {
   "cell_type": "code",
   "execution_count": 6,
   "metadata": {
    "collapsed": true
   },
   "outputs": [],
   "source": [
    "import pandas as pd\n",
    "import numpy as np\n",
    "import cv2\n",
    "\n",
    "\n",
    "def generator(batch_size, data):\n",
    "    def load_img(src):\n",
    "        return cv2.imread(src)\n",
    "\n",
    "    correction = 0.2\n",
    "    while True:\n",
    "        subsample = data.sample(batch_size)\n",
    "        \n",
    "        subsample['center_img'] = subsample.center_img_path.apply(load_img)\n",
    "        subsample['left_img'] = subsample.left_img_path.apply(load_img)\n",
    "        subsample['right_img'] = subsample.right_img_path.apply(load_img)\n",
    "    \n",
    "        \n",
    "        X_center = np.asarray( subsample.center_img.values.tolist() )\n",
    "        y_center = subsample[['steering_angle']].values\n",
    "\n",
    "        X_left = np.asarray( subsample.left_img.values.tolist() )\n",
    "        y_left = subsample[['steering_angle']].values + correction\n",
    "\n",
    "        X_right = np.asarray( subsample.right_img.values.tolist() )\n",
    "        y_right = subsample[['steering_angle']].values - correction\n",
    "\n",
    "        X = np.concatenate( [X_center, X_left, X_right], axis=0)\n",
    "        y = np.concatenate( [y_center, y_left, y_right], axis=0)\n",
    "        \n",
    "        yield X, y"
   ]
  },
  {
   "cell_type": "code",
   "execution_count": 7,
   "metadata": {},
   "outputs": [],
   "source": [
    "data = pd.read_pickle( 'loaded_data.pkl' )\n",
    "\n",
    "validation_data = data.sample( int(data.shape[0] * 0.1) )\n",
    "train_data = data.drop(validation_data.index)\n",
    "\n",
    "#X_valid, y_valid = next(generator(validation_data.shape[0], validation_data))\n"
   ]
  },
  {
   "cell_type": "markdown",
   "metadata": {},
   "source": [
    "# Neural Net"
   ]
  },
  {
   "cell_type": "code",
   "execution_count": 8,
   "metadata": {
    "collapsed": true
   },
   "outputs": [],
   "source": [
    "import os"
   ]
  },
  {
   "cell_type": "code",
   "execution_count": 9,
   "metadata": {
    "collapsed": true
   },
   "outputs": [],
   "source": [
    "def preprocess_image(img):\n",
    "    from keras.backend import tf as ktf\n",
    "    import keras.backend as K\n",
    "    \n",
    "    ktf.image.resize_images(img, (80, 160))\n",
    "    return (K.identity(img) / 255.0) - 0.5\n"
   ]
  },
  {
   "cell_type": "code",
   "execution_count": null,
   "metadata": {
    "scrolled": false
   },
   "outputs": [
    {
     "name": "stderr",
     "output_type": "stream",
     "text": [
      "Using TensorFlow backend.\n"
     ]
    },
    {
     "name": "stdout",
     "output_type": "stream",
     "text": [
      "_________________________________________________________________\n",
      "Layer (type)                 Output Shape              Param #   \n",
      "=================================================================\n",
      "cropping2d_1 (Cropping2D)    (None, 90, 320, 3)        0         \n",
      "_________________________________________________________________\n",
      "lambda_1 (Lambda)            (None, 90, 320, 3)        0         \n",
      "_________________________________________________________________\n",
      "vgg16 (Model)                multiple                  14714688  \n",
      "_________________________________________________________________\n",
      "flatten_1 (Flatten)          (None, 10240)             0         \n",
      "_________________________________________________________________\n",
      "dense_1 (Dense)              (None, 1024)              10486784  \n",
      "_________________________________________________________________\n",
      "dense_2 (Dense)              (None, 512)               524800    \n",
      "_________________________________________________________________\n",
      "dropout_1 (Dropout)          (None, 512)               0         \n",
      "_________________________________________________________________\n",
      "dense_3 (Dense)              (None, 1)                 513       \n",
      "=================================================================\n",
      "Total params: 25,726,785\n",
      "Trainable params: 11,012,097\n",
      "Non-trainable params: 14,714,688\n",
      "_________________________________________________________________\n"
     ]
    }
   ],
   "source": [
    "import keras\n",
    "from keras.models import Sequential\n",
    "from keras.layers import Conv2D, Flatten, Dense, Lambda, Cropping2D, Dropout\n",
    "from keras.applications import VGG16\n",
    "from keras.regularizers import l2\n",
    "\n",
    "tb = keras.callbacks.TensorBoard(log_dir='./logs')\n",
    "\n",
    "vgg = VGG16( include_top=False, weights='imagenet' )\n",
    "vgg.trainable = False\n",
    "\n",
    "model = Sequential()\n",
    "model.add( Cropping2D(cropping=((50,20), (0,0)), input_shape=(160,320,3)) )\n",
    "model.add( Lambda(preprocess_image) )\n",
    "model.add( vgg )\n",
    "model.add( Flatten() )\n",
    "model.add( Dense(1024, activation='relu', kernel_regularizer=l2(0.0001)  ))\n",
    "model.add( Dense(512, activation='relu', kernel_regularizer=l2(0.0001) ))\n",
    "model.add( Dropout(0.5))\n",
    "model.add( Dense(1) )\n",
    "\n",
    "model.compile( optimizer='adam', loss='mse' )\n",
    "model.summary()"
   ]
  },
  {
   "cell_type": "code",
   "execution_count": null,
   "metadata": {
    "scrolled": false
   },
   "outputs": [
    {
     "name": "stdout",
     "output_type": "stream",
     "text": [
      "Epoch 1/100\n",
      "200/200 [==============================] - 166s - loss: 1.8040 - val_loss: 0.1438\n",
      "Epoch 2/100\n",
      "200/200 [==============================] - 157s - loss: 0.1295 - val_loss: 0.1184\n",
      "Epoch 3/100\n",
      "200/200 [==============================] - 157s - loss: 0.1122 - val_loss: 0.1057\n",
      "Epoch 4/100\n",
      "200/200 [==============================] - 165s - loss: 0.1007 - val_loss: 0.0939\n",
      "Epoch 5/100\n",
      "200/200 [==============================] - 168s - loss: 0.0924 - val_loss: 0.0878\n",
      "Epoch 6/100\n",
      "200/200 [==============================] - 164s - loss: 0.0862 - val_loss: 0.0839\n",
      "Epoch 7/100\n",
      "200/200 [==============================] - 158s - loss: 0.0801 - val_loss: 0.0791\n",
      "Epoch 8/100\n",
      "200/200 [==============================] - 156s - loss: 0.0756 - val_loss: 0.0739\n",
      "Epoch 9/100\n",
      "199/200 [============================>.] - ETA: 0s - loss: 0.0719"
     ]
    }
   ],
   "source": [
    "batch_size=64\n",
    "model.fit_generator( generator=generator(batch_size, train_data), \n",
    "                    steps_per_epoch=200, \n",
    "                    epochs=100, \n",
    "                    callbacks=[tb],\n",
    "                    validation_data=generator(batch_size, validation_data),\n",
    "                    validation_steps=20\n",
    "                   )\n"
   ]
  },
  {
   "cell_type": "code",
   "execution_count": null,
   "metadata": {
    "collapsed": true
   },
   "outputs": [],
   "source": [
    "model.save( '2017-07-26.h5' )"
   ]
  },
  {
   "cell_type": "code",
   "execution_count": null,
   "metadata": {
    "collapsed": true
   },
   "outputs": [],
   "source": []
  },
  {
   "cell_type": "code",
   "execution_count": null,
   "metadata": {
    "collapsed": true
   },
   "outputs": [],
   "source": []
  }
 ],
 "metadata": {
  "kernelspec": {
   "display_name": "Python 3",
   "language": "python",
   "name": "python3"
  },
  "language_info": {
   "codemirror_mode": {
    "name": "ipython",
    "version": 3
   },
   "file_extension": ".py",
   "mimetype": "text/x-python",
   "name": "python",
   "nbconvert_exporter": "python",
   "pygments_lexer": "ipython3",
   "version": "3.6.1"
  },
  "widgets": {
   "state": {},
   "version": "1.1.2"
  }
 },
 "nbformat": 4,
 "nbformat_minor": 2
}
