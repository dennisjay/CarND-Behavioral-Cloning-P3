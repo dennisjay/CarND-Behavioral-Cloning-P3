{
 "cells": [
  {
   "cell_type": "markdown",
   "metadata": {},
   "source": [
    "# Data Reading"
   ]
  },
  {
   "cell_type": "code",
   "execution_count": 1,
   "metadata": {
    "collapsed": true
   },
   "outputs": [],
   "source": [
    "import pandas as pd"
   ]
  },
  {
   "cell_type": "code",
   "execution_count": 2,
   "metadata": {
    "collapsed": true
   },
   "outputs": [],
   "source": [
    "def load_data(prefix):\n",
    "    def fix_path(src):\n",
    "        return prefix + str('/IMG/') +src.split('/')[-1]    \n",
    "    \n",
    "    data = pd.read_csv( prefix + str('/driving_log.csv'), header=None, skiprows=1, names=[\n",
    "        'center_img_path', \n",
    "        'left_img_path',\n",
    "        'right_img_path',\n",
    "        'steering_angle',\n",
    "        'throttle',\n",
    "        'break',\n",
    "        'speed'\n",
    "    ])\n",
    "    \n",
    "    data['center_img_path'] =  data['center_img_path'].apply(fix_path)\n",
    "    data['left_img_path'] =  data['left_img_path'].apply(fix_path)\n",
    "    data['right_img_path'] =  data['right_img_path'].apply(fix_path)\n",
    "\n",
    "    return data"
   ]
  },
  {
   "cell_type": "code",
   "execution_count": 3,
   "metadata": {
    "collapsed": true
   },
   "outputs": [],
   "source": [
    "datasets = [load_data(prefix) for prefix in  [ './data/udacity', './data/train', './data/train_2'] ]"
   ]
  },
  {
   "cell_type": "code",
   "execution_count": 4,
   "metadata": {
    "scrolled": false
   },
   "outputs": [
    {
     "data": {
      "text/html": [
       "<div>\n",
       "<style>\n",
       "    .dataframe thead tr:only-child th {\n",
       "        text-align: right;\n",
       "    }\n",
       "\n",
       "    .dataframe thead th {\n",
       "        text-align: left;\n",
       "    }\n",
       "\n",
       "    .dataframe tbody tr th {\n",
       "        vertical-align: top;\n",
       "    }\n",
       "</style>\n",
       "<table border=\"1\" class=\"dataframe\">\n",
       "  <thead>\n",
       "    <tr style=\"text-align: right;\">\n",
       "      <th></th>\n",
       "      <th>center_img_path</th>\n",
       "      <th>left_img_path</th>\n",
       "      <th>right_img_path</th>\n",
       "      <th>steering_angle</th>\n",
       "      <th>throttle</th>\n",
       "      <th>break</th>\n",
       "      <th>speed</th>\n",
       "    </tr>\n",
       "  </thead>\n",
       "  <tbody>\n",
       "    <tr>\n",
       "      <th>0</th>\n",
       "      <td>./data/udacity/IMG/center_2016_12_01_13_30_48_...</td>\n",
       "      <td>./data/udacity/IMG/left_2016_12_01_13_30_48_28...</td>\n",
       "      <td>./data/udacity/IMG/right_2016_12_01_13_30_48_2...</td>\n",
       "      <td>0.0</td>\n",
       "      <td>0.0</td>\n",
       "      <td>0.0</td>\n",
       "      <td>22.148290</td>\n",
       "    </tr>\n",
       "    <tr>\n",
       "      <th>1</th>\n",
       "      <td>./data/udacity/IMG/center_2016_12_01_13_30_48_...</td>\n",
       "      <td>./data/udacity/IMG/left_2016_12_01_13_30_48_40...</td>\n",
       "      <td>./data/udacity/IMG/right_2016_12_01_13_30_48_4...</td>\n",
       "      <td>0.0</td>\n",
       "      <td>0.0</td>\n",
       "      <td>0.0</td>\n",
       "      <td>21.879630</td>\n",
       "    </tr>\n",
       "    <tr>\n",
       "      <th>2</th>\n",
       "      <td>./data/udacity/IMG/center_2016_12_01_13_31_12_...</td>\n",
       "      <td>./data/udacity/IMG/left_2016_12_01_13_31_12_93...</td>\n",
       "      <td>./data/udacity/IMG/right_2016_12_01_13_31_12_9...</td>\n",
       "      <td>0.0</td>\n",
       "      <td>0.0</td>\n",
       "      <td>0.0</td>\n",
       "      <td>1.453011</td>\n",
       "    </tr>\n",
       "  </tbody>\n",
       "</table>\n",
       "</div>"
      ],
      "text/plain": [
       "                                     center_img_path  \\\n",
       "0  ./data/udacity/IMG/center_2016_12_01_13_30_48_...   \n",
       "1  ./data/udacity/IMG/center_2016_12_01_13_30_48_...   \n",
       "2  ./data/udacity/IMG/center_2016_12_01_13_31_12_...   \n",
       "\n",
       "                                       left_img_path  \\\n",
       "0  ./data/udacity/IMG/left_2016_12_01_13_30_48_28...   \n",
       "1  ./data/udacity/IMG/left_2016_12_01_13_30_48_40...   \n",
       "2  ./data/udacity/IMG/left_2016_12_01_13_31_12_93...   \n",
       "\n",
       "                                      right_img_path  steering_angle  \\\n",
       "0  ./data/udacity/IMG/right_2016_12_01_13_30_48_2...             0.0   \n",
       "1  ./data/udacity/IMG/right_2016_12_01_13_30_48_4...             0.0   \n",
       "2  ./data/udacity/IMG/right_2016_12_01_13_31_12_9...             0.0   \n",
       "\n",
       "   throttle  break      speed  \n",
       "0       0.0    0.0  22.148290  \n",
       "1       0.0    0.0  21.879630  \n",
       "2       0.0    0.0   1.453011  "
      ]
     },
     "execution_count": 4,
     "metadata": {},
     "output_type": "execute_result"
    }
   ],
   "source": [
    "data = pd.concat( datasets )\n",
    "data.head(3)"
   ]
  },
  {
   "cell_type": "markdown",
   "metadata": {},
   "source": [
    "# Data Generation"
   ]
  },
  {
   "cell_type": "code",
   "execution_count": 5,
   "metadata": {
    "collapsed": true
   },
   "outputs": [],
   "source": [
    "import pandas as pd\n",
    "import numpy as np\n",
    "import cv2\n",
    "\n",
    "def unison_shuffle(a, b):\n",
    "    assert len(a) == len(b)\n",
    "    p = np.random.permutation(len(a))\n",
    "    return a[p], b[p]\n",
    "\n",
    "\n",
    "def generator(batch_size, data):\n",
    "    def load_img(src):\n",
    "        return cv2.imread(src)\n",
    "\n",
    "    correction = 0.3\n",
    "    while True:\n",
    "        subsample = data.sample(batch_size)\n",
    "        \n",
    "        subsample['center_img'] = subsample.center_img_path.apply(load_img)\n",
    "        subsample['left_img'] = subsample.left_img_path.apply(load_img)\n",
    "        subsample['right_img'] = subsample.right_img_path.apply(load_img)\n",
    "\n",
    "        X_center = np.asarray( subsample.center_img.values.tolist() )\n",
    "        y_center = subsample[['steering_angle']].values\n",
    "        \n",
    "        X_center_flipped = np.fliplr(X_center)\n",
    "        y_center_flipped = subsample[['steering_angle']].values * (-1)\n",
    "\n",
    "        X_left = np.asarray( subsample.left_img.values.tolist() )\n",
    "        y_left = subsample[['steering_angle']].values + correction\n",
    "\n",
    "        X_right = np.asarray( subsample.right_img.values.tolist() )\n",
    "        y_right = subsample[['steering_angle']].values - correction\n",
    "\n",
    "        X = np.concatenate( [X_center, X_center_flipped], axis=0)\n",
    "        y = np.concatenate( [y_center, y_center_flipped], axis=0)\n",
    "        \n",
    "        yield unison_shuffle(X, y)"
   ]
  },
  {
   "cell_type": "code",
   "execution_count": 6,
   "metadata": {
    "collapsed": true
   },
   "outputs": [],
   "source": [
    "validation_data = data.sample( int(data.shape[0] * 0.1) )\n",
    "train_data = data.drop(validation_data.index)\n",
    "\n",
    "#X_valid, y_valid = next(generator(validation_data.shape[0], validation_data))"
   ]
  },
  {
   "cell_type": "markdown",
   "metadata": {},
   "source": [
    "# Neural Net"
   ]
  },
  {
   "cell_type": "code",
   "execution_count": 7,
   "metadata": {
    "collapsed": true
   },
   "outputs": [],
   "source": [
    "import os"
   ]
  },
  {
   "cell_type": "code",
   "execution_count": 8,
   "metadata": {
    "collapsed": true
   },
   "outputs": [],
   "source": [
    "def preprocess_image(img):\n",
    "    from keras.backend import tf as ktf\n",
    "    import keras.backend as K\n",
    "    \n",
    "    ktf.image.resize_images(img, (80, 160))\n",
    "    return (K.identity(img) / 255.0) - 0.5\n"
   ]
  },
  {
   "cell_type": "code",
   "execution_count": 9,
   "metadata": {
    "scrolled": false
   },
   "outputs": [
    {
     "name": "stderr",
     "output_type": "stream",
     "text": [
      "Using TensorFlow backend.\n"
     ]
    },
    {
     "name": "stdout",
     "output_type": "stream",
     "text": [
      "_________________________________________________________________\n",
      "Layer (type)                 Output Shape              Param #   \n",
      "=================================================================\n",
      "cropping2d_1 (Cropping2D)    (None, 90, 320, 3)        0         \n",
      "_________________________________________________________________\n",
      "lambda_1 (Lambda)            (None, 90, 320, 3)        0         \n",
      "_________________________________________________________________\n",
      "conv2d_1 (Conv2D)            (None, 43, 158, 24)       1824      \n",
      "_________________________________________________________________\n",
      "conv2d_2 (Conv2D)            (None, 20, 77, 36)        21636     \n",
      "_________________________________________________________________\n",
      "conv2d_3 (Conv2D)            (None, 8, 37, 48)         43248     \n",
      "_________________________________________________________________\n",
      "conv2d_4 (Conv2D)            (None, 6, 35, 64)         27712     \n",
      "_________________________________________________________________\n",
      "conv2d_5 (Conv2D)            (None, 4, 33, 64)         36928     \n",
      "_________________________________________________________________\n",
      "flatten_1 (Flatten)          (None, 8448)              0         \n",
      "_________________________________________________________________\n",
      "dense_1 (Dense)              (None, 100)               844900    \n",
      "_________________________________________________________________\n",
      "dense_2 (Dense)              (None, 50)                5050      \n",
      "_________________________________________________________________\n",
      "dense_3 (Dense)              (None, 10)                510       \n",
      "_________________________________________________________________\n",
      "dense_4 (Dense)              (None, 1)                 11        \n",
      "=================================================================\n",
      "Total params: 981,819\n",
      "Trainable params: 981,819\n",
      "Non-trainable params: 0\n",
      "_________________________________________________________________\n"
     ]
    }
   ],
   "source": [
    "import keras\n",
    "from keras.models import Sequential\n",
    "from keras.layers import Conv2D, Flatten, Dense, Lambda, Cropping2D, Dropout, Activation, Conv2D\n",
    "from keras.applications import VGG16\n",
    "from keras.regularizers import l2\n",
    "\n",
    "tb = keras.callbacks.TensorBoard(log_dir='./logs')\n",
    "\n",
    "model = Sequential()\n",
    "model.add(Cropping2D(cropping=((50,20), (0,0)), input_shape=(160,320,3)))\n",
    "model.add(Lambda(preprocess_image))\n",
    "model.add(Conv2D(24, (5, 5),strides=(2,2),activation=\"relu\"))\n",
    "model.add(Conv2D(36, (5, 5),strides=(2,2),activation=\"relu\"))\n",
    "model.add(Conv2D(48, (5, 5),strides=(2,2),activation=\"relu\"))\n",
    "model.add(Conv2D(64, (3, 3),activation=\"relu\"))\n",
    "model.add(Conv2D(64, (3, 3),activation=\"relu\"))\n",
    "model.add(Flatten())\n",
    "model.add(Dense(100))\n",
    "model.add(Dense(50))\n",
    "model.add(Dense(10))\n",
    "model.add(Dense(1))\n",
    "\n",
    "model.compile( optimizer='adam', loss='mse' )\n",
    "model.summary()"
   ]
  },
  {
   "cell_type": "code",
   "execution_count": 10,
   "metadata": {
    "scrolled": false
   },
   "outputs": [
    {
     "name": "stdout",
     "output_type": "stream",
     "text": [
      "Epoch 1/15\n",
      "171/171 [==============================] - 68s - loss: 0.0230 - val_loss: 0.0144\n",
      "Epoch 2/15\n",
      "171/171 [==============================] - 65s - loss: 0.0132 - val_loss: 0.0154\n",
      "Epoch 3/15\n",
      "171/171 [==============================] - 66s - loss: 0.0120 - val_loss: 0.0117\n",
      "Epoch 4/15\n",
      "171/171 [==============================] - 66s - loss: 0.0115 - val_loss: 0.0132\n",
      "Epoch 5/15\n",
      "171/171 [==============================] - 65s - loss: 0.0116 - val_loss: 0.0108\n",
      "Epoch 6/15\n",
      "171/171 [==============================] - 64s - loss: 0.0117 - val_loss: 0.0097\n",
      "Epoch 7/15\n",
      "171/171 [==============================] - 65s - loss: 0.0106 - val_loss: 0.0133\n",
      "Epoch 8/15\n",
      "171/171 [==============================] - 65s - loss: 0.0103 - val_loss: 0.0129\n",
      "Epoch 9/15\n",
      "171/171 [==============================] - 65s - loss: 0.0101 - val_loss: 0.0097\n",
      "Epoch 10/15\n",
      "171/171 [==============================] - 64s - loss: 0.0096 - val_loss: 0.0094\n",
      "Epoch 11/15\n",
      "171/171 [==============================] - 65s - loss: 0.0093 - val_loss: 0.0148\n",
      "Epoch 12/15\n",
      "171/171 [==============================] - 64s - loss: 0.0083 - val_loss: 0.0114\n",
      "Epoch 13/15\n",
      "171/171 [==============================] - 60s - loss: 0.0079 - val_loss: 0.0111\n",
      "Epoch 14/15\n",
      "171/171 [==============================] - 62s - loss: 0.0075 - val_loss: 0.0116\n",
      "Epoch 15/15\n",
      "171/171 [==============================] - 65s - loss: 0.0067 - val_loss: 0.0124\n"
     ]
    },
    {
     "data": {
      "text/plain": [
       "<keras.callbacks.History at 0x7f035d30a940>"
      ]
     },
     "execution_count": 10,
     "metadata": {},
     "output_type": "execute_result"
    }
   ],
   "source": [
    "batch_size=64\n",
    "epochs=15\n",
    "steps_per_epoch = train_data.shape[0] // batch_size \n",
    "\n",
    "model.fit_generator( generator=generator(batch_size, train_data), \n",
    "                    steps_per_epoch=steps_per_epoch, \n",
    "                    epochs=epochs, \n",
    "                    callbacks=[tb],\n",
    "                    validation_data=generator(batch_size, validation_data),\n",
    "                    validation_steps=steps_per_epoch // 10\n",
    "                   )\n"
   ]
  },
  {
   "cell_type": "code",
   "execution_count": 11,
   "metadata": {
    "collapsed": true
   },
   "outputs": [],
   "source": [
    "model.save( '2017-07-29.h5' )"
   ]
  },
  {
   "cell_type": "code",
   "execution_count": null,
   "metadata": {
    "collapsed": true
   },
   "outputs": [],
   "source": []
  }
 ],
 "metadata": {
  "kernelspec": {
   "display_name": "Python 3",
   "language": "python",
   "name": "python3"
  },
  "language_info": {
   "codemirror_mode": {
    "name": "ipython",
    "version": 3
   },
   "file_extension": ".py",
   "mimetype": "text/x-python",
   "name": "python",
   "nbconvert_exporter": "python",
   "pygments_lexer": "ipython3",
   "version": "3.6.1"
  },
  "widgets": {
   "state": {},
   "version": "1.1.2"
  }
 },
 "nbformat": 4,
 "nbformat_minor": 2
}
