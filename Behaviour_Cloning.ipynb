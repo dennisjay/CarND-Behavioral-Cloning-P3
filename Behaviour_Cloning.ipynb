{
 "cells": [
  {
   "cell_type": "markdown",
   "metadata": {},
   "source": [
    "# Data Reading"
   ]
  },
  {
   "cell_type": "code",
   "execution_count": 1,
   "metadata": {
    "collapsed": true
   },
   "outputs": [],
   "source": [
    "import pandas as pd\n",
    "import cv2"
   ]
  },
  {
   "cell_type": "code",
   "execution_count": 2,
   "metadata": {
    "collapsed": true
   },
   "outputs": [],
   "source": [
    "data = pd.read_csv( './training_data/driving_log.csv', header=None, names=[\n",
    "    'center_img_path', \n",
    "    'left_img_path',\n",
    "    'right_img_path',\n",
    "    'steering_angle',\n",
    "    'throttle',\n",
    "    'break',\n",
    "    'speed'\n",
    "])"
   ]
  },
  {
   "cell_type": "code",
   "execution_count": 3,
   "metadata": {
    "collapsed": true
   },
   "outputs": [],
   "source": [
    "def load_img(src):\n",
    "    path = str( './training_data/IMG/') +src.split('/')[-1]\n",
    "    return cv2.imread(path)\n",
    "\n",
    "\n",
    "data['center_img'] = data.center_img_path.apply(load_img)\n",
    "data['left_img'] = data.left_img_path.apply(load_img)\n",
    "data['right_img'] = data.right_img_path.apply(load_img)"
   ]
  },
  {
   "cell_type": "code",
   "execution_count": 4,
   "metadata": {},
   "outputs": [
    {
     "data": {
      "text/html": [
       "<div>\n",
       "<table border=\"1\" class=\"dataframe\">\n",
       "  <thead>\n",
       "    <tr style=\"text-align: right;\">\n",
       "      <th></th>\n",
       "      <th>center_img_path</th>\n",
       "      <th>left_img_path</th>\n",
       "      <th>right_img_path</th>\n",
       "      <th>steering_angle</th>\n",
       "      <th>throttle</th>\n",
       "      <th>break</th>\n",
       "      <th>speed</th>\n",
       "      <th>center_img</th>\n",
       "      <th>left_img</th>\n",
       "      <th>right_img</th>\n",
       "    </tr>\n",
       "  </thead>\n",
       "  <tbody>\n",
       "    <tr>\n",
       "      <th>0</th>\n",
       "      <td>/Users/dennisjost/Desktop/data/IMG/center_2017...</td>\n",
       "      <td>/Users/dennisjost/Desktop/data/IMG/left_2017_0...</td>\n",
       "      <td>/Users/dennisjost/Desktop/data/IMG/right_2017_...</td>\n",
       "      <td>0.0</td>\n",
       "      <td>0.0</td>\n",
       "      <td>0.0</td>\n",
       "      <td>0.000003</td>\n",
       "      <td>[[[185, 145, 116], [185, 145, 116], [184, 144,...</td>\n",
       "      <td>[[[185, 145, 116], [185, 145, 116], [184, 144,...</td>\n",
       "      <td>[[[185, 145, 116], [185, 145, 116], [184, 144,...</td>\n",
       "    </tr>\n",
       "    <tr>\n",
       "      <th>1</th>\n",
       "      <td>/Users/dennisjost/Desktop/data/IMG/center_2017...</td>\n",
       "      <td>/Users/dennisjost/Desktop/data/IMG/left_2017_0...</td>\n",
       "      <td>/Users/dennisjost/Desktop/data/IMG/right_2017_...</td>\n",
       "      <td>0.0</td>\n",
       "      <td>0.0</td>\n",
       "      <td>0.0</td>\n",
       "      <td>0.000002</td>\n",
       "      <td>[[[185, 145, 116], [185, 145, 116], [184, 144,...</td>\n",
       "      <td>[[[185, 145, 116], [185, 145, 116], [184, 144,...</td>\n",
       "      <td>[[[185, 145, 116], [185, 145, 116], [184, 144,...</td>\n",
       "    </tr>\n",
       "  </tbody>\n",
       "</table>\n",
       "</div>"
      ],
      "text/plain": [
       "                                     center_img_path  \\\n",
       "0  /Users/dennisjost/Desktop/data/IMG/center_2017...   \n",
       "1  /Users/dennisjost/Desktop/data/IMG/center_2017...   \n",
       "\n",
       "                                       left_img_path  \\\n",
       "0  /Users/dennisjost/Desktop/data/IMG/left_2017_0...   \n",
       "1  /Users/dennisjost/Desktop/data/IMG/left_2017_0...   \n",
       "\n",
       "                                      right_img_path  steering_angle  \\\n",
       "0  /Users/dennisjost/Desktop/data/IMG/right_2017_...             0.0   \n",
       "1  /Users/dennisjost/Desktop/data/IMG/right_2017_...             0.0   \n",
       "\n",
       "   throttle  break     speed  \\\n",
       "0       0.0    0.0  0.000003   \n",
       "1       0.0    0.0  0.000002   \n",
       "\n",
       "                                          center_img  \\\n",
       "0  [[[185, 145, 116], [185, 145, 116], [184, 144,...   \n",
       "1  [[[185, 145, 116], [185, 145, 116], [184, 144,...   \n",
       "\n",
       "                                            left_img  \\\n",
       "0  [[[185, 145, 116], [185, 145, 116], [184, 144,...   \n",
       "1  [[[185, 145, 116], [185, 145, 116], [184, 144,...   \n",
       "\n",
       "                                           right_img  \n",
       "0  [[[185, 145, 116], [185, 145, 116], [184, 144,...  \n",
       "1  [[[185, 145, 116], [185, 145, 116], [184, 144,...  "
      ]
     },
     "execution_count": 4,
     "metadata": {},
     "output_type": "execute_result"
    }
   ],
   "source": [
    "data.head(2)"
   ]
  },
  {
   "cell_type": "markdown",
   "metadata": {},
   "source": [
    "# Data Generation"
   ]
  },
  {
   "cell_type": "code",
   "execution_count": 5,
   "metadata": {
    "collapsed": true
   },
   "outputs": [],
   "source": [
    "from sklearn.model_selection import train_test_split\n",
    "import numpy as np\n",
    "\n",
    "X = np.asarray( data.center_img.values.tolist() )\n",
    "y = data[['steering_angle']].values\n",
    "\n",
    "\n",
    "X_train, X_test, y_train, y_test = train_test_split(X, y)\n",
    "\n"
   ]
  },
  {
   "cell_type": "markdown",
   "metadata": {},
   "source": [
    "# Neural Net"
   ]
  },
  {
   "cell_type": "code",
   "execution_count": 9,
   "metadata": {},
   "outputs": [
    {
     "name": "stderr",
     "output_type": "stream",
     "text": [
      "/usr/local/lib/python3.6/site-packages/keras/models.py:844: UserWarning: The `nb_epoch` argument in `fit` has been renamed `epochs`.\n",
      "  warnings.warn('The `nb_epoch` argument in `fit` '\n"
     ]
    },
    {
     "name": "stdout",
     "output_type": "stream",
     "text": [
      "Train on 2037 samples, validate on 510 samples\n",
      "Epoch 1/3\n",
      "2037/2037 [==============================] - 126s - loss: 190.1658 - val_loss: 0.3486\n",
      "Epoch 2/3\n",
      "2037/2037 [==============================] - 124s - loss: 1.8228 - val_loss: 0.4124\n",
      "Epoch 3/3\n",
      "2037/2037 [==============================] - 139s - loss: 0.1380 - val_loss: 0.0400\n"
     ]
    },
    {
     "data": {
      "text/plain": [
       "<keras.callbacks.History at 0x1c9124ef0>"
      ]
     },
     "execution_count": 9,
     "metadata": {},
     "output_type": "execute_result"
    }
   ],
   "source": [
    "from keras.models import Sequential\n",
    "from keras.layers import Conv2D, Flatten, Dense, Lambda\n",
    "from keras.applications import VGG16\n",
    "\n",
    "#vgg = VGG16( include_top=False, input_shape=(160, 320, 3) )\n",
    "\n",
    "model = Sequential()\n",
    "#model.add( vgg )\n",
    "model.add( Lambda(lambda x: (x / 255.0) - 0.5, input_shape=(160, 320, 3) ))\n",
    "model.add( Flatten() )\n",
    "model.add( Dense( 1024, activation='relu'))\n",
    "model.add( Dense(1) )\n",
    "\n",
    "model.compile( optimizer='adam', loss='mse' )\n",
    "model.fit( X_train, y_train, validation_split=0.2, shuffle=True, nb_epoch=3)\n",
    "\n"
   ]
  },
  {
   "cell_type": "code",
   "execution_count": 10,
   "metadata": {},
   "outputs": [],
   "source": [
    "model.save( \"2017-07-19-local.h5\" )"
   ]
  },
  {
   "cell_type": "code",
   "execution_count": null,
   "metadata": {
    "collapsed": true
   },
   "outputs": [],
   "source": []
  }
 ],
 "metadata": {
  "kernelspec": {
   "display_name": "Python 3",
   "language": "python",
   "name": "python3"
  },
  "language_info": {
   "codemirror_mode": {
    "name": "ipython",
    "version": 3
   },
   "file_extension": ".py",
   "mimetype": "text/x-python",
   "name": "python",
   "nbconvert_exporter": "python",
   "pygments_lexer": "ipython3",
   "version": "3.6.1"
  },
  "widgets": {
   "state": {},
   "version": "1.1.2"
  }
 },
 "nbformat": 4,
 "nbformat_minor": 2
}
