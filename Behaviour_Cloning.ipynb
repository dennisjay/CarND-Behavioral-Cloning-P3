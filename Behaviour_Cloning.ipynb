{
 "cells": [
  {
   "cell_type": "markdown",
   "metadata": {},
   "source": [
    "# Data Reading"
   ]
  },
  {
   "cell_type": "code",
   "execution_count": 1,
   "metadata": {
    "collapsed": true
   },
   "outputs": [],
   "source": [
    "import pandas as pd"
   ]
  },
  {
   "cell_type": "code",
   "execution_count": 2,
   "metadata": {
    "collapsed": true
   },
   "outputs": [],
   "source": [
    "def load_data(prefix):\n",
    "    '''loads the csv data into a pandas dataframe'''\n",
    "    \n",
    "    def fix_path(src):\n",
    "        return prefix + str('/IMG/') +src.split('/')[-1]    \n",
    "    \n",
    "    data = pd.read_csv( prefix + str('/driving_log.csv'), header=None, skiprows=1, names=[\n",
    "        'center_img_path', \n",
    "        'left_img_path',\n",
    "        'right_img_path',\n",
    "        'steering_angle',\n",
    "        'throttle',\n",
    "        'break',\n",
    "        'speed'\n",
    "    ])\n",
    "    \n",
    "    data['center_img_path'] =  data['center_img_path'].apply(fix_path)\n",
    "    data['left_img_path'] =  data['left_img_path'].apply(fix_path)\n",
    "    data['right_img_path'] =  data['right_img_path'].apply(fix_path)\n",
    "\n",
    "    return data"
   ]
  },
  {
   "cell_type": "code",
   "execution_count": 3,
   "metadata": {
    "collapsed": true
   },
   "outputs": [],
   "source": [
    "datasets = [load_data(prefix) for prefix in  [ './data/udacity', './data/train', './data/train_2'] ]"
   ]
  },
  {
   "cell_type": "code",
   "execution_count": 4,
   "metadata": {
    "scrolled": false
   },
   "outputs": [
    {
     "data": {
      "text/html": [
       "<div>\n",
       "<style>\n",
       "    .dataframe thead tr:only-child th {\n",
       "        text-align: right;\n",
       "    }\n",
       "\n",
       "    .dataframe thead th {\n",
       "        text-align: left;\n",
       "    }\n",
       "\n",
       "    .dataframe tbody tr th {\n",
       "        vertical-align: top;\n",
       "    }\n",
       "</style>\n",
       "<table border=\"1\" class=\"dataframe\">\n",
       "  <thead>\n",
       "    <tr style=\"text-align: right;\">\n",
       "      <th></th>\n",
       "      <th>center_img_path</th>\n",
       "      <th>left_img_path</th>\n",
       "      <th>right_img_path</th>\n",
       "      <th>steering_angle</th>\n",
       "      <th>throttle</th>\n",
       "      <th>break</th>\n",
       "      <th>speed</th>\n",
       "    </tr>\n",
       "  </thead>\n",
       "  <tbody>\n",
       "    <tr>\n",
       "      <th>0</th>\n",
       "      <td>./data/udacity/IMG/center_2016_12_01_13_30_48_...</td>\n",
       "      <td>./data/udacity/IMG/left_2016_12_01_13_30_48_28...</td>\n",
       "      <td>./data/udacity/IMG/right_2016_12_01_13_30_48_2...</td>\n",
       "      <td>0.0</td>\n",
       "      <td>0.0</td>\n",
       "      <td>0.0</td>\n",
       "      <td>22.148290</td>\n",
       "    </tr>\n",
       "    <tr>\n",
       "      <th>1</th>\n",
       "      <td>./data/udacity/IMG/center_2016_12_01_13_30_48_...</td>\n",
       "      <td>./data/udacity/IMG/left_2016_12_01_13_30_48_40...</td>\n",
       "      <td>./data/udacity/IMG/right_2016_12_01_13_30_48_4...</td>\n",
       "      <td>0.0</td>\n",
       "      <td>0.0</td>\n",
       "      <td>0.0</td>\n",
       "      <td>21.879630</td>\n",
       "    </tr>\n",
       "    <tr>\n",
       "      <th>2</th>\n",
       "      <td>./data/udacity/IMG/center_2016_12_01_13_31_12_...</td>\n",
       "      <td>./data/udacity/IMG/left_2016_12_01_13_31_12_93...</td>\n",
       "      <td>./data/udacity/IMG/right_2016_12_01_13_31_12_9...</td>\n",
       "      <td>0.0</td>\n",
       "      <td>0.0</td>\n",
       "      <td>0.0</td>\n",
       "      <td>1.453011</td>\n",
       "    </tr>\n",
       "  </tbody>\n",
       "</table>\n",
       "</div>"
      ],
      "text/plain": [
       "                                     center_img_path  \\\n",
       "0  ./data/udacity/IMG/center_2016_12_01_13_30_48_...   \n",
       "1  ./data/udacity/IMG/center_2016_12_01_13_30_48_...   \n",
       "2  ./data/udacity/IMG/center_2016_12_01_13_31_12_...   \n",
       "\n",
       "                                       left_img_path  \\\n",
       "0  ./data/udacity/IMG/left_2016_12_01_13_30_48_28...   \n",
       "1  ./data/udacity/IMG/left_2016_12_01_13_30_48_40...   \n",
       "2  ./data/udacity/IMG/left_2016_12_01_13_31_12_93...   \n",
       "\n",
       "                                      right_img_path  steering_angle  \\\n",
       "0  ./data/udacity/IMG/right_2016_12_01_13_30_48_2...             0.0   \n",
       "1  ./data/udacity/IMG/right_2016_12_01_13_30_48_4...             0.0   \n",
       "2  ./data/udacity/IMG/right_2016_12_01_13_31_12_9...             0.0   \n",
       "\n",
       "   throttle  break      speed  \n",
       "0       0.0    0.0  22.148290  \n",
       "1       0.0    0.0  21.879630  \n",
       "2       0.0    0.0   1.453011  "
      ]
     },
     "execution_count": 4,
     "metadata": {},
     "output_type": "execute_result"
    }
   ],
   "source": [
    "data = pd.concat( datasets )\n",
    "data.head(3)"
   ]
  },
  {
   "cell_type": "markdown",
   "metadata": {},
   "source": [
    "# Data Generation"
   ]
  },
  {
   "cell_type": "code",
   "execution_count": 5,
   "metadata": {},
   "outputs": [],
   "source": [
    "import pandas as pd\n",
    "import numpy as np\n",
    "import cv2\n",
    "\n",
    "def unison_shuffle(a, b):\n",
    "    '''Shuffles two numpy datasets in parallel'''\n",
    "    assert len(a) == len(b)\n",
    "    p = np.random.permutation(len(a))\n",
    "    return a[p], b[p]\n",
    "\n",
    "\n",
    "def generator(batch_size, data):\n",
    "    '''generator for keras generator training'''\n",
    "    def load_img(src):\n",
    "        #Read the image from file\n",
    "        #BGR colorspace\n",
    "        return cv2.imread(src)\n",
    "\n",
    "    #correction fator for left and right images\n",
    "    correction = 0.3\n",
    "    while True:\n",
    "        #sample some random data out od the big dataset\n",
    "        subsample = data.sample(batch_size)\n",
    "        \n",
    "        #fill the images\n",
    "        subsample['center_img'] = subsample.center_img_path.apply(load_img)\n",
    "        subsample['left_img'] = subsample.left_img_path.apply(load_img)\n",
    "        subsample['right_img'] = subsample.right_img_path.apply(load_img)\n",
    "        subsample['center_flipped'] = subsample.center_img.apply(np.fliplr)\n",
    "\n",
    "        #convert images to numpy arrays \n",
    "        X_center = np.asarray( subsample.center_img.values.tolist() )\n",
    "        y_center = subsample[['steering_angle']].values\n",
    "        \n",
    "        #Data augmentation, flip vercal flipping\n",
    "        X_center_flipped = np.asarray( subsample.center_flipped.values.tolist() )\n",
    "        y_center_flipped = subsample[['steering_angle']].values * (-1)\n",
    "\n",
    "        X_left = np.asarray( subsample.left_img.values.tolist() )\n",
    "        y_left = subsample[['steering_angle']].values + correction\n",
    "\n",
    "        X_right = np.asarray( subsample.right_img.values.tolist() )\n",
    "        y_right = subsample[['steering_angle']].values - correction\n",
    "        \n",
    "        #concatenate x and y data to one big array\n",
    "        X = np.concatenate( [X_center, X_left, X_right, X_center_flipped], axis=0)\n",
    "        y = np.concatenate( [y_center, y_left, y_right, y_center_flipped], axis=0)\n",
    "        \n",
    "        #shuffle the data\n",
    "        yield unison_shuffle(X, y)"
   ]
  },
  {
   "cell_type": "code",
   "execution_count": 6,
   "metadata": {
    "collapsed": true
   },
   "outputs": [],
   "source": [
    "validation_data = data.sample( int(data.shape[0] * 0.4) )\n",
    "test_data = data.sample( int(validation_data.shape[0] * 0.5) )\n",
    "\n",
    "validation_data = validation_data.drop( test_data.index )\n",
    "train_data = data.drop(validation_data.index)\n",
    "\n",
    "#X_valid, y_valid = next(generator(validation_data.shape[0], validation_data))"
   ]
  },
  {
   "cell_type": "markdown",
   "metadata": {},
   "source": [
    "# Neural Net"
   ]
  },
  {
   "cell_type": "code",
   "execution_count": 7,
   "metadata": {
    "collapsed": true
   },
   "outputs": [],
   "source": [
    "import os"
   ]
  },
  {
   "cell_type": "code",
   "execution_count": 8,
   "metadata": {
    "collapsed": true
   },
   "outputs": [],
   "source": [
    "def preprocess_image(img):\n",
    "    from keras.backend import tf as ktf\n",
    "    import keras.backend as K\n",
    "    \n",
    "    ktf.image.resize_images(img, (80, 160))\n",
    "    return (K.identity(img) / 255.0) - 0.5\n"
   ]
  },
  {
   "cell_type": "code",
   "execution_count": 9,
   "metadata": {
    "scrolled": false
   },
   "outputs": [
    {
     "name": "stderr",
     "output_type": "stream",
     "text": [
      "Using TensorFlow backend.\n"
     ]
    },
    {
     "name": "stdout",
     "output_type": "stream",
     "text": [
      "_________________________________________________________________\n",
      "Layer (type)                 Output Shape              Param #   \n",
      "=================================================================\n",
      "cropping2d_1 (Cropping2D)    (None, 90, 320, 3)        0         \n",
      "_________________________________________________________________\n",
      "lambda_1 (Lambda)            (None, 90, 320, 3)        0         \n",
      "_________________________________________________________________\n",
      "conv2d_1 (Conv2D)            (None, 43, 158, 24)       1824      \n",
      "_________________________________________________________________\n",
      "conv2d_2 (Conv2D)            (None, 20, 77, 36)        21636     \n",
      "_________________________________________________________________\n",
      "conv2d_3 (Conv2D)            (None, 8, 37, 48)         43248     \n",
      "_________________________________________________________________\n",
      "conv2d_4 (Conv2D)            (None, 6, 35, 64)         27712     \n",
      "_________________________________________________________________\n",
      "conv2d_5 (Conv2D)            (None, 4, 33, 64)         36928     \n",
      "_________________________________________________________________\n",
      "flatten_1 (Flatten)          (None, 8448)              0         \n",
      "_________________________________________________________________\n",
      "dropout_1 (Dropout)          (None, 8448)              0         \n",
      "_________________________________________________________________\n",
      "dense_1 (Dense)              (None, 100)               844900    \n",
      "_________________________________________________________________\n",
      "dense_2 (Dense)              (None, 50)                5050      \n",
      "_________________________________________________________________\n",
      "dense_3 (Dense)              (None, 10)                510       \n",
      "_________________________________________________________________\n",
      "dense_4 (Dense)              (None, 1)                 11        \n",
      "=================================================================\n",
      "Total params: 981,819\n",
      "Trainable params: 981,819\n",
      "Non-trainable params: 0\n",
      "_________________________________________________________________\n"
     ]
    }
   ],
   "source": [
    "import keras\n",
    "from keras.models import Sequential\n",
    "from keras.layers import Conv2D, Flatten, Dense, Lambda, Cropping2D, Dropout, Activation, Conv2D\n",
    "from keras.applications import VGG16\n",
    "from keras.regularizers import l2\n",
    "\n",
    "tb = keras.callbacks.TensorBoard(log_dir='./logs')\n",
    "\n",
    "model = Sequential()\n",
    "model.add(Cropping2D(cropping=((50,20), (0,0)), input_shape=(160,320,3)))\n",
    "model.add(Lambda(preprocess_image))\n",
    "model.add(Conv2D(24, (5, 5),strides=(2,2),activation=\"relu\"))\n",
    "model.add(Conv2D(36, (5, 5),strides=(2,2),activation=\"relu\"))\n",
    "model.add(Conv2D(48, (5, 5),strides=(2,2),activation=\"relu\"))\n",
    "model.add(Conv2D(64, (3, 3),activation=\"relu\"))\n",
    "model.add(Conv2D(64, (3, 3),activation=\"relu\"))\n",
    "model.add(Flatten())\n",
    "model.add(Dropout(0.1))\n",
    "model.add(Dense(100))\n",
    "model.add(Dense(50))\n",
    "model.add(Dense(10))\n",
    "model.add(Dense(1))\n",
    "\n",
    "model.compile( optimizer='adam', loss='mse' )\n",
    "model.summary()"
   ]
  },
  {
   "cell_type": "code",
   "execution_count": 10,
   "metadata": {
    "scrolled": false
   },
   "outputs": [
    {
     "name": "stdout",
     "output_type": "stream",
     "text": [
      "Epoch 1/15\n",
      "131/131 [==============================] - 72s - loss: 0.0426 - val_loss: 0.0332\n",
      "Epoch 2/15\n",
      "131/131 [==============================] - 65s - loss: 0.0341 - val_loss: 0.0318\n",
      "Epoch 3/15\n",
      "131/131 [==============================] - 65s - loss: 0.0310 - val_loss: 0.0305\n",
      "Epoch 4/15\n",
      "131/131 [==============================] - 66s - loss: 0.0282 - val_loss: 0.0264\n",
      "Epoch 5/15\n",
      "131/131 [==============================] - 65s - loss: 0.0252 - val_loss: 0.0265\n",
      "Epoch 6/15\n",
      "131/131 [==============================] - 64s - loss: 0.0231 - val_loss: 0.0260\n",
      "Epoch 7/15\n",
      "131/131 [==============================] - 63s - loss: 0.0224 - val_loss: 0.0217\n",
      "Epoch 8/15\n",
      "131/131 [==============================] - 64s - loss: 0.0205 - val_loss: 0.0241\n",
      "Epoch 9/15\n",
      "131/131 [==============================] - 65s - loss: 0.0193 - val_loss: 0.0196\n",
      "Epoch 10/15\n",
      "131/131 [==============================] - 65s - loss: 0.0169 - val_loss: 0.0198\n",
      "Epoch 11/15\n",
      "131/131 [==============================] - 63s - loss: 0.0168 - val_loss: 0.0218\n",
      "Epoch 12/15\n",
      "131/131 [==============================] - 65s - loss: 0.0145 - val_loss: 0.0187\n",
      "Epoch 13/15\n",
      "131/131 [==============================] - 65s - loss: 0.0140 - val_loss: 0.0192\n",
      "Epoch 14/15\n",
      "131/131 [==============================] - 64s - loss: 0.0132 - val_loss: 0.0193\n",
      "Epoch 15/15\n",
      "131/131 [==============================] - 63s - loss: 0.0116 - val_loss: 0.0179\n"
     ]
    },
    {
     "data": {
      "text/plain": [
       "<keras.callbacks.History at 0x7f8c4bccd400>"
      ]
     },
     "execution_count": 10,
     "metadata": {},
     "output_type": "execute_result"
    }
   ],
   "source": [
    "batch_size=64\n",
    "epochs=15\n",
    "steps_per_epoch = train_data.shape[0] // batch_size \n",
    "\n",
    "model.fit_generator( generator=generator(batch_size, train_data), \n",
    "                    steps_per_epoch=steps_per_epoch, \n",
    "                    epochs=epochs, \n",
    "                    callbacks=[tb],\n",
    "                    validation_data=generator(batch_size, validation_data),\n",
    "                    validation_steps=steps_per_epoch // 10\n",
    "                   )\n"
   ]
  },
  {
   "cell_type": "code",
   "execution_count": 11,
   "metadata": {
    "collapsed": true
   },
   "outputs": [],
   "source": [
    "model.save( 'model.h5' )"
   ]
  },
  {
   "cell_type": "code",
   "execution_count": 12,
   "metadata": {},
   "outputs": [],
   "source": [
    "X_test, y_test = next(generator(test_data.shape[0], test_data))"
   ]
  },
  {
   "cell_type": "code",
   "execution_count": 13,
   "metadata": {},
   "outputs": [
    {
     "data": {
      "text/plain": [
       "0.01047853915139811"
      ]
     },
     "execution_count": 13,
     "metadata": {},
     "output_type": "execute_result"
    }
   ],
   "source": [
    "from sklearn.metrics import mean_squared_error\n",
    "\n",
    "pred_test = model.predict( X_test )\n",
    "mean_squared_error( y_test, pred_test )"
   ]
  },
  {
   "cell_type": "code",
   "execution_count": 14,
   "metadata": {},
   "outputs": [
    {
     "ename": "NameError",
     "evalue": "name 'n_show' is not defined",
     "output_type": "error",
     "traceback": [
      "\u001b[0;31m---------------------------------------------------------------------------\u001b[0m",
      "\u001b[0;31mNameError\u001b[0m                                 Traceback (most recent call last)",
      "\u001b[0;32m<ipython-input-14-0a965451e85f>\u001b[0m in \u001b[0;36m<module>\u001b[0;34m()\u001b[0m\n\u001b[1;32m      4\u001b[0m \u001b[0;34m\u001b[0m\u001b[0m\n\u001b[1;32m      5\u001b[0m \u001b[0mX_test\u001b[0m\u001b[0;34m,\u001b[0m \u001b[0my_test\u001b[0m \u001b[0;34m=\u001b[0m \u001b[0mX_test\u001b[0m\u001b[0;34m[\u001b[0m\u001b[0;34m:\u001b[0m\u001b[0mnb_show\u001b[0m\u001b[0;34m]\u001b[0m\u001b[0;34m,\u001b[0m \u001b[0my_test\u001b[0m\u001b[0;34m[\u001b[0m\u001b[0;34m:\u001b[0m\u001b[0mnb_show\u001b[0m\u001b[0;34m]\u001b[0m\u001b[0;34m\u001b[0m\u001b[0m\n\u001b[0;32m----> 6\u001b[0;31m \u001b[0mpred_test\u001b[0m \u001b[0;34m=\u001b[0m \u001b[0mpred_test\u001b[0m\u001b[0;34m[\u001b[0m\u001b[0;34m:\u001b[0m\u001b[0mn_show\u001b[0m\u001b[0;34m]\u001b[0m\u001b[0;34m\u001b[0m\u001b[0m\n\u001b[0m\u001b[1;32m      7\u001b[0m \u001b[0;34m\u001b[0m\u001b[0m\n\u001b[1;32m      8\u001b[0m \u001b[0;32mfor\u001b[0m \u001b[0mi\u001b[0m \u001b[0;32min\u001b[0m \u001b[0mrange\u001b[0m\u001b[0;34m(\u001b[0m\u001b[0mnb_show\u001b[0m\u001b[0;34m)\u001b[0m\u001b[0;34m:\u001b[0m\u001b[0;34m\u001b[0m\u001b[0m\n",
      "\u001b[0;31mNameError\u001b[0m: name 'n_show' is not defined"
     ]
    }
   ],
   "source": [
    "import matplotlib.pyplot as plt\n",
    "\n",
    "nb_show = 6\n",
    "\n",
    "X_test, y_test = X_test[:nb_show], y_test[:nb_show]\n",
    "pred_test = pred_test[:n_show]\n",
    "\n",
    "for i in range(nb_show): \n",
    "    print( \"Predicted: \" + str(pred_test[i]) + \" Expected: \" + str(y_test[i]) )\n",
    "    plt.imshow(cv2.cvtColor(X_test[i], cv2.COLOR_BGR2RGB))\n",
    "    plt.show()\n"
   ]
  },
  {
   "cell_type": "raw",
   "metadata": {},
   "source": []
  },
  {
   "cell_type": "code",
   "execution_count": null,
   "metadata": {
    "collapsed": true
   },
   "outputs": [],
   "source": []
  },
  {
   "cell_type": "code",
   "execution_count": null,
   "metadata": {
    "collapsed": true
   },
   "outputs": [],
   "source": []
  }
 ],
 "metadata": {
  "kernelspec": {
   "display_name": "Python 3",
   "language": "python",
   "name": "python3"
  },
  "language_info": {
   "codemirror_mode": {
    "name": "ipython",
    "version": 3
   },
   "file_extension": ".py",
   "mimetype": "text/x-python",
   "name": "python",
   "nbconvert_exporter": "python",
   "pygments_lexer": "ipython3",
   "version": "3.6.1"
  },
  "widgets": {
   "state": {},
   "version": "1.1.2"
  }
 },
 "nbformat": 4,
 "nbformat_minor": 2
}
